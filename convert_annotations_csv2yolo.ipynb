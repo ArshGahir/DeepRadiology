{
 "cells": [
  {
   "cell_type": "code",
   "execution_count": 16,
   "id": "fe9e54b5",
   "metadata": {},
   "outputs": [],
   "source": [
    "import pandas as pd\n",
    "import os\n",
    "import pydicom"
   ]
  },
  {
   "cell_type": "code",
   "execution_count": 17,
   "id": "4b21846f",
   "metadata": {},
   "outputs": [],
   "source": [
    "def get_dicom_dimensions(dicom_filepath):\n",
    "    # Read the DICOM file\n",
    "    dicom = pydicom.dcmread(dicom_filepath)\n",
    "\n",
    "    # Get the pixel dimensions\n",
    "    width = dicom.Columns\n",
    "    height = dicom.Rows\n",
    "\n",
    "    return width, height"
   ]
  },
  {
   "cell_type": "code",
   "execution_count": 18,
   "id": "3c87d8e8",
   "metadata": {},
   "outputs": [],
   "source": [
    "def create_text_files(df, dicom_folder, output_folder):\n",
    "    # Create the output folder if it doesn't exist\n",
    "    if not os.path.exists(output_folder):\n",
    "        os.makedirs(output_folder)\n",
    "\n",
    "    # Group the DataFrame by image_id\n",
    "    grouped = df.groupby('image_id')\n",
    "\n",
    "    # Iterate through groups\n",
    "    for name, group in grouped:\n",
    "        # Check if any NaN values are present in required columns\n",
    "        if group[['x_min', 'x_max', 'y_min', 'y_max']].isnull().any().any():\n",
    "            continue\n",
    "\n",
    "        # Get the dimensions of the DICOM image\n",
    "        dicom_filepath = os.path.join(dicom_folder, f\"{name}.dicom\")\n",
    "        width, height = get_dicom_dimensions(dicom_filepath)\n",
    "\n",
    "        # Create a text file for each image\n",
    "        output_path = os.path.join(output_folder, f\"{name}.txt\")\n",
    "\n",
    "        with open(output_path, 'w') as file:\n",
    "            # Iterate through records in the group\n",
    "            for _, row in group.iterrows():\n",
    "                class_id = row['class_id']\n",
    "                \n",
    "                # Normalize coordinates using image dimensions\n",
    "                x_center = (row['x_min'] + row['x_max']) / 2 / width\n",
    "                y_center = (row['y_min'] + row['y_max']) / 2 / height\n",
    "                norm_width = (row['x_max'] - row['x_min']) / width\n",
    "                norm_height = (row['y_max'] - row['y_min']) / height\n",
    "\n",
    "                # Write the information to the text file\n",
    "                file.write(f\"{class_id} {x_center} {y_center} {norm_width} {norm_height}\\n\")"
   ]
  },
  {
   "cell_type": "code",
   "execution_count": 19,
   "id": "453f601e",
   "metadata": {},
   "outputs": [
    {
     "name": "stdout",
     "output_type": "stream",
     "text": [
      "Complete\n"
     ]
    }
   ],
   "source": [
    "if __name__ == \"__main__\":\n",
    "    # Load your DataFrame from the CSV file\n",
    "    df = pd.read_csv('train.csv')\n",
    "    # Specify the folder containing DICOM images\n",
    "    dicom_folder = 'C:/Users/Alex/Desktop/SENECA/Semester 9/BDC800_Capstone/Capstone Project/DeepRadiology/dataset/images/dicom'\n",
    "    # Specify the output folder for text files\n",
    "    output_folder = 'C:/Users/Alex/Desktop/SENECA/Semester 9/BDC800_Capstone/Capstone Project/DeepRadiology/dataset/annotations'\n",
    "    # Create text files\n",
    "    create_text_files(df, dicom_folder, output_folder)\n",
    "    print('Complete')"
   ]
  }
 ],
 "metadata": {
  "kernelspec": {
   "display_name": "Python 3 (ipykernel)",
   "language": "python",
   "name": "python3"
  },
  "language_info": {
   "codemirror_mode": {
    "name": "ipython",
    "version": 3
   },
   "file_extension": ".py",
   "mimetype": "text/x-python",
   "name": "python",
   "nbconvert_exporter": "python",
   "pygments_lexer": "ipython3",
   "version": "3.9.15"
  }
 },
 "nbformat": 4,
 "nbformat_minor": 5
}
