{
 "cells": [
  {
   "cell_type": "code",
   "execution_count": 1,
   "id": "fe9e54b5",
   "metadata": {},
   "outputs": [],
   "source": [
    "import pandas as pd\n",
    "import os"
   ]
  },
  {
   "cell_type": "code",
   "execution_count": 2,
   "id": "3c87d8e8",
   "metadata": {},
   "outputs": [],
   "source": [
    "def create_text_files(df, output_folder):\n",
    "    # Create the output folder if it doesn't exist\n",
    "    if not os.path.exists(output_folder):\n",
    "        os.makedirs(output_folder)\n",
    "\n",
    "    # Group the DataFrame by image_id\n",
    "    grouped = df.groupby('image_id')\n",
    "\n",
    "    # Iterate through groups\n",
    "    for name, group in grouped:\n",
    "        # Check if any NaN values are present in required columns\n",
    "        if group[['x_min', 'x_max', 'y_min', 'y_max']].isnull().any().any():\n",
    "            continue\n",
    "\n",
    "        # Create a text file for each image\n",
    "        output_path = os.path.join(output_folder, f\"{name}.txt\")\n",
    "\n",
    "        with open(output_path, 'w') as file:\n",
    "            # Iterate through records in the group\n",
    "            for _, row in group.iterrows():\n",
    "                class_id = row['class_id']\n",
    "                x_center = (row['x_min'] + row['x_max']) / 2\n",
    "                y_center = (row['y_min'] + row['y_max']) / 2\n",
    "                width = row['x_max'] - row['x_min']\n",
    "                height = row['y_max'] - row['y_min']\n",
    "\n",
    "                # Write the information to the text file\n",
    "                file.write(f\"{class_id} {x_center} {y_center} {width} {height}\\n\")"
   ]
  },
  {
   "cell_type": "code",
   "execution_count": 3,
   "id": "453f601e",
   "metadata": {},
   "outputs": [
    {
     "name": "stdout",
     "output_type": "stream",
     "text": [
      "Complete\n"
     ]
    }
   ],
   "source": [
    "if __name__ == \"__main__\":\n",
    "    # Load your DataFrame from the CSV file\n",
    "    df = pd.read_csv('train.csv')\n",
    "    # Specify the output folder for text files\n",
    "    output_folder = 'C:/Users/Alex/Desktop/SENECA/Semester 9/BDC800_Capstone/Capstone Project/DeepRadiology/dataset/annotations'\n",
    "    # Create text files\n",
    "    create_text_files(df, output_folder)\n",
    "    print('Complete')"
   ]
  }
 ],
 "metadata": {
  "kernelspec": {
   "display_name": "Python 3 (ipykernel)",
   "language": "python",
   "name": "python3"
  },
  "language_info": {
   "codemirror_mode": {
    "name": "ipython",
    "version": 3
   },
   "file_extension": ".py",
   "mimetype": "text/x-python",
   "name": "python",
   "nbconvert_exporter": "python",
   "pygments_lexer": "ipython3",
   "version": "3.9.15"
  }
 },
 "nbformat": 4,
 "nbformat_minor": 5
}
