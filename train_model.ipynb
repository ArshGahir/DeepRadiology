{
 "cells": [
  {
   "cell_type": "code",
   "execution_count": null,
   "id": "762ec616",
   "metadata": {},
   "outputs": [],
   "source": [
    "import ultralytics\n",
    "from ultralytics import YOLO\n",
    "ultralytics.checks()"
   ]
  },
  {
   "cell_type": "code",
   "execution_count": null,
   "id": "ad9ce550",
   "metadata": {},
   "outputs": [],
   "source": [
    "# load model\n",
    "# model = YOLO('yolov8n.yaml')  # build a new model from YAML\n",
    "model = YOLO('yolov8n.pt')  # load a pretrained model (recommended for training)\n",
    "# model = YOLO('yolov8n.yaml').load('yolov8n.pt')  # build from YAML and transfer weights"
   ]
  },
  {
   "cell_type": "code",
   "execution_count": null,
   "id": "72cb74ca",
   "metadata": {
    "scrolled": true
   },
   "outputs": [],
   "source": [
    "# train model\n",
    "results = model.train(data='C:/Users/Alex/Desktop/SENECA/Semester 9/BDC800_Capstone/Capstone Project/DeepRadiology/dataset/setup.yaml', epochs=10, imgsz=2880)\n",
    "print('training complete')"
   ]
  },
  {
   "cell_type": "code",
   "execution_count": null,
   "id": "553705ea",
   "metadata": {},
   "outputs": [],
   "source": [
    "# validate\n",
    "# model = YOLO('yolov8n.pt')  # load an official model\n",
    "model = YOLO('path/to/best.pt')  # load a custom model\n",
    "\n",
    "metrics = results.val()  # no arguments needed, dataset and settings remembered\n",
    "metrics.box.map    # map50-95\n",
    "metrics.box.map50  # map50\n",
    "metrics.box.map75  # map75\n",
    "metrics.box.maps   # a list contains map50-95 of each category"
   ]
  },
  {
   "cell_type": "code",
   "execution_count": null,
   "id": "78823bff",
   "metadata": {},
   "outputs": [],
   "source": [
    "# predict\n",
    "# model = YOLO('yolov8n.pt')  # load an official model\n",
    "model = YOLO('path/to/best.pt')  # load a custom model\n",
    "results = model('C:/Users/Alex/Desktop/SENECA/Semester 9/BDC800_Capstone/Capstone Project/DeepRadiology/dataset/images/test/0b1f7b86b0ddb459fb779c6d473d96ad.tiff')  # predict on an image"
   ]
  }
 ],
 "metadata": {
  "kernelspec": {
   "display_name": "Python 3 (ipykernel)",
   "language": "python",
   "name": "python3"
  },
  "language_info": {
   "codemirror_mode": {
    "name": "ipython",
    "version": 3
   },
   "file_extension": ".py",
   "mimetype": "text/x-python",
   "name": "python",
   "nbconvert_exporter": "python",
   "pygments_lexer": "ipython3",
   "version": "3.9.15"
  }
 },
 "nbformat": 4,
 "nbformat_minor": 5
}
