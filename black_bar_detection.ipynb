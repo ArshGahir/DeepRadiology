{
 "cells": [
  {
   "cell_type": "code",
   "execution_count": 1,
   "id": "50cb9d4c",
   "metadata": {},
   "outputs": [],
   "source": [
    "import os\n",
    "import shutil\n",
    "import cv2"
   ]
  },
  {
   "cell_type": "code",
   "execution_count": 2,
   "id": "2b009f90",
   "metadata": {},
   "outputs": [],
   "source": [
    "def has_black_bar(image, bar_height=30, threshold=10):\n",
    "    # Extract the first row of pixels\n",
    "    first_row = image[:bar_height, :]\n",
    "\n",
    "    # Calculate the mean intensity of the first row\n",
    "    mean_intensity = first_row.mean()\n",
    "\n",
    "    # Check if the mean intensity is below the threshold\n",
    "    return mean_intensity < threshold\n",
    "\n",
    "def process_tiff(input_folder, output_folder, bar_height=30, threshold=10):\n",
    "    # Create the output folder if it doesn't exist\n",
    "    if not os.path.exists(output_folder):\n",
    "        os.makedirs(output_folder)\n",
    "\n",
    "    # List to store TIFF files with a black bar\n",
    "    black_bar_files = []\n",
    "\n",
    "    # Iterate through TIFF files in the input folder\n",
    "    for filename in os.listdir(input_folder):\n",
    "        if filename.endswith('.tiff') or filename.endswith('.tif'):\n",
    "            tiff_path = os.path.join(input_folder, filename)\n",
    "\n",
    "            try:\n",
    "                # Read the TIFF image using OpenCV\n",
    "                image = cv2.imread(tiff_path, cv2.IMREAD_GRAYSCALE)\n",
    "\n",
    "                # Check for a black bar in the first row\n",
    "                if has_black_bar(image, bar_height, threshold):\n",
    "                    # Create a copy of the original file before moving\n",
    "                    original_path = os.path.join(input_folder, filename)\n",
    "                    copy_path = os.path.join(output_folder, filename)\n",
    "                    shutil.copy2(original_path, copy_path)\n",
    "\n",
    "                    # Move the file to the output folder\n",
    "                    shutil.move(original_path, copy_path)\n",
    "                    black_bar_files.append(filename)\n",
    "\n",
    "            except Exception as e:\n",
    "                print(f\"Error processing TIFF file {tiff_path}: {e}\")\n",
    "                continue\n",
    "\n",
    "    print(\"TIFF files with a black bar:\")\n",
    "    print(black_bar_files)"
   ]
  },
  {
   "cell_type": "code",
   "execution_count": 3,
   "id": "dd488037",
   "metadata": {},
   "outputs": [
    {
     "name": "stdout",
     "output_type": "stream",
     "text": [
      "TIFF files with a black bar:\n",
      "['0e87195ff59d4294d61b8bffddb3c03c.tiff', '11cfa1a5b04bd1eaa319d08cdb308bb9.tiff', '1756a285d1bc917bbe55024b0727a836.tiff', '1b3379be7c72c3ae5404df423ed74388.tiff', '1d0b8741c4689494aed1c1859eb891dc.tiff', '1e8f8aeb612ca66bac87904f2525f992.tiff', '1f68a73472d32146d1cbe3bcd9355337.tiff', '23b0639cd035140def992b0ee7fc34f2.tiff', '23d1c67775a1f20404642b6086b74cc8.tiff', '2a5abc6af72d3329b7155f17154132f9.tiff', '33d11e9c98ade6b3937407364fd07103.tiff', '382fde0b4f36b498850d79b00cf5593d.tiff', '38b7b8d461d181eacea2aa075dd6e64e.tiff', '495fcdab0b3ae4e0856700741d4ff17b.tiff', '4cd6ce29c3b6bab1f3f23509644cd626.tiff', '5562ea946b0ed8574dd20d05a001d6c4.tiff', '63382fd6688255077d3e61f946fa8c35.tiff', '6ab69f995bbbc0522d8819fec2cf1d3b.tiff', '765760a9e2d3b82da72ca1ab86229b79.tiff', '778592c49dc5b2bd4f4d4f415e174b5c.tiff', '789d2cadef93195598e3906ec5fab0e9.tiff', '8a7ca215a9c86fb9a1352de720c182f3.tiff', '91b50dd3d5d98104513ea8d8a12f711f.tiff', '93a37385c5f53a0c3a1357f996f22555.tiff', '98553a08561599e00ebcbc603e206557.tiff', 'a1c80226c0de6d63b6e9e46f7447dc40.tiff', 'a2a8071358cf2858d45596364fd4ec85.tiff', 'a330d6606525415c5e462b9e13ca8452.tiff', 'b5b35d88d19c5f0777921db2405ae2c4.tiff', 'b62cf5cdba136db74de102d0c008f83e.tiff', 'c09a2d6a72b0f14763619224335d685e.tiff', 'c599c619d44a05ed87854caa6977fd18.tiff', 'e1e596163010acb347ac7fa1a48d8d9c.tiff', 'e6399a4d1b7a12a9a4c2fcbdc91ea41d.tiff', 'e9af0316eb1e082f0b2fac36ecf9a6c6.tiff', 'ee9e445e316c60e028de2486e3f459df.tiff', 'f50d5b9d7f65680d066371d14fcda875.tiff', 'f51c1a48919f8b36116ed4aa799dcb23.tiff', 'f6c5f7b23355d13860de35f4cda750df.tiff', 'ff4cd09578f32d803e5996a4a2ec29b2.tiff']\n"
     ]
    }
   ],
   "source": [
    "# Example usage\n",
    "input_directory = \"C:/Users/Alex/Desktop/SENECA/Semester 9/BDC800_Capstone/Capstone Project/DeepRadiology/dataset/images/train_og\"\n",
    "output_directory = \"C:/Users/Alex/Desktop/SENECA/Semester 9/BDC800_Capstone/Capstone Project/DeepRadiology/dataset/images/black_bars\"\n",
    "process_tiff(input_directory, output_directory)"
   ]
  },
  {
   "cell_type": "code",
   "execution_count": 4,
   "id": "7f29af7b",
   "metadata": {},
   "outputs": [
    {
     "ename": "NameError",
     "evalue": "name 'black_bar_files' is not defined",
     "output_type": "error",
     "traceback": [
      "\u001b[1;31m---------------------------------------------------------------------------\u001b[0m",
      "\u001b[1;31mNameError\u001b[0m                                 Traceback (most recent call last)",
      "Cell \u001b[1;32mIn[4], line 1\u001b[0m\n\u001b[1;32m----> 1\u001b[0m \u001b[38;5;28mprint\u001b[39m(\u001b[38;5;28mlen\u001b[39m(\u001b[43mblack_bar_files\u001b[49m))\n",
      "\u001b[1;31mNameError\u001b[0m: name 'black_bar_files' is not defined"
     ]
    }
   ],
   "source": [
    "print(len(black_bar_files))"
   ]
  }
 ],
 "metadata": {
  "kernelspec": {
   "display_name": "Python 3 (ipykernel)",
   "language": "python",
   "name": "python3"
  },
  "language_info": {
   "codemirror_mode": {
    "name": "ipython",
    "version": 3
   },
   "file_extension": ".py",
   "mimetype": "text/x-python",
   "name": "python",
   "nbconvert_exporter": "python",
   "pygments_lexer": "ipython3",
   "version": "3.9.15"
  }
 },
 "nbformat": 4,
 "nbformat_minor": 5
}
