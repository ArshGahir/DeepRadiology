{
 "cells": [
  {
   "cell_type": "code",
   "execution_count": 1,
   "id": "8434e426",
   "metadata": {},
   "outputs": [
    {
     "name": "stdout",
     "output_type": "stream",
     "text": [
      "libraries loaded\n"
     ]
    }
   ],
   "source": [
    "import os\n",
    "import numpy as np\n",
    "import pydicom\n",
    "import imageio\n",
    "print('libraries loaded')"
   ]
  },
  {
   "cell_type": "code",
   "execution_count": 2,
   "id": "c05e14d9",
   "metadata": {},
   "outputs": [],
   "source": [
    "def convert_to_uint16(data, source_max):\n",
    "    target_max = 65535  # 2 ** 16 - 1\n",
    "    # build a linear lookup table (LUT) indexed from 0 to source_max\n",
    "    source_range = np.arange(source_max + 1)\n",
    "    lut = np.round(source_range * target_max / source_max).astype(np.uint16)\n",
    "    # apply it\n",
    "    return lut[data]\n",
    "\n",
    "def should_invert_contrast(pixel_data, threshold=32767):\n",
    "    # Extract top-left corner pixel\n",
    "    top_left_pixel = pixel_data[1, 200]\n",
    "\n",
    "    # Calculate the intensity of the center pixel\n",
    "    center_pixel_intensity = pixel_data[pixel_data.shape[0] // 2, pixel_data.shape[1] // 2]\n",
    "\n",
    "    # Check if the center pixel is darker than the top-left corner pixel\n",
    "    return center_pixel_intensity < top_left_pixel\n",
    "\n",
    "def convert_dicom_to_tiff(input_folder, output_folder):\n",
    "    # Create the output folder if it doesn't exist\n",
    "    if not os.path.exists(output_folder):\n",
    "        os.makedirs(output_folder)\n",
    "\n",
    "    # Iterate through DICOM files in the input folder\n",
    "    for filename in os.listdir(input_folder):\n",
    "        if filename.endswith('.dicom'):\n",
    "            dicom_path = os.path.join(input_folder, filename)\n",
    "\n",
    "            try:\n",
    "                dicom = pydicom.dcmread(dicom_path, force=True)\n",
    "            except Exception as e:\n",
    "                print(f\" Read Error DICOM file {dicom_path}: {e}\")\n",
    "                continue\n",
    "\n",
    "            # Check if Pixel Data is present\n",
    "            if 'PixelData' not in dicom:\n",
    "                print(f\"Error: Pixel Data not found in DICOM file {dicom_path}\")\n",
    "                continue\n",
    "\n",
    "            # Set TransferSyntaxUID if not present\n",
    "            if not hasattr(dicom.file_meta, 'TransferSyntaxUID'):\n",
    "                dicom.file_meta.TransferSyntaxUID = pydicom.uid.ImplicitVRLittleEndian\n",
    "\n",
    "            try:\n",
    "                image = dicom.pixel_array\n",
    "                pixel_data = image.astype(np.int32)  # Ensure pixel data is integer\n",
    "\n",
    "                # Check if inversion is needed based on the center pixel\n",
    "                if should_invert_contrast(pixel_data, threshold=32767):\n",
    "                    pixel_data = np.max(pixel_data) - pixel_data  # Invert contrast\n",
    "\n",
    "                pixel_data = convert_to_uint16(pixel_data, np.max(pixel_data))  # Convert to uint16\n",
    "\n",
    "                # Save as TIFF in the output folder\n",
    "                output_path = os.path.join(output_folder, os.path.splitext(filename)[0] + '.tiff')\n",
    "                imageio.imwrite(output_path, pixel_data)\n",
    "\n",
    "            except Exception as e:\n",
    "                print(f\"Error processing DICOM file {dicom_path}: {e}\")\n",
    "                continue"
   ]
  },
  {
   "cell_type": "code",
   "execution_count": 3,
   "id": "5423bf3e",
   "metadata": {},
   "outputs": [
    {
     "name": "stdout",
     "output_type": "stream",
     "text": [
      "Error: Pixel Data not found in DICOM file C:/Users/Alex/Desktop/SENECA/Semester 9/BDC800_Capstone/Capstone Project/DeepRadiology/dataset/images/train_dicom_og\\000434271f63a053c4128a0ba6352c7f.dicom\n"
     ]
    },
    {
     "name": "stderr",
     "output_type": "stream",
     "text": [
      "C:\\Users\\Alex\\anaconda3\\lib\\site-packages\\pydicom\\pixel_data_handlers\\pillow_handler.py:238: UserWarning: The (0028,0101) 'Bits Stored' value (12-bit) doesn't match the JPEG 2000 data (16-bit). It's recommended that you change the 'Bits Stored' value\n",
      "  warnings.warn(\n",
      "C:\\Users\\Alex\\anaconda3\\lib\\site-packages\\pydicom\\pixel_data_handlers\\pillow_handler.py:238: UserWarning: The (0028,0101) 'Bits Stored' value (14-bit) doesn't match the JPEG 2000 data (16-bit). It's recommended that you change the 'Bits Stored' value\n",
      "  warnings.warn(\n"
     ]
    },
    {
     "name": "stdout",
     "output_type": "stream",
     "text": [
      "Complete\n"
     ]
    }
   ],
   "source": [
    "if __name__ == \"__main__\":\n",
    "    # Convert test images\n",
    "    # test_input_folder = \"C:/Users/Alex/Desktop/SENECA/Semester 9/BDC800_Capstone/Capstone Project/DeepRadiology/dataset/images/test_dicom\"\n",
    "    # test_output_folder = \"C:/Users/Alex/Desktop/SENECA/Semester 9/BDC800_Capstone/Capstone Project/DeepRadiology/dataset/images/test\"\n",
    "    # convert_dicom_to_tiff(test_input_folder, test_output_folder)\n",
    "\n",
    "    # Convert train images\n",
    "    input_folder = \"C:/Users/Alex/Desktop/SENECA/Semester 9/BDC800_Capstone/Capstone Project/DeepRadiology/dataset/images/train_dicom_og\"\n",
    "    output_folder = \"C:/Users/Alex/Desktop/SENECA/Semester 9/BDC800_Capstone/Capstone Project/DeepRadiology/dataset/images/train_og2\"\n",
    "    convert_dicom_to_tiff(input_folder, output_folder)\n",
    "\n",
    "    print('Complete')"
   ]
  }
 ],
 "metadata": {
  "kernelspec": {
   "display_name": "Python 3 (ipykernel)",
   "language": "python",
   "name": "python3"
  },
  "language_info": {
   "codemirror_mode": {
    "name": "ipython",
    "version": 3
   },
   "file_extension": ".py",
   "mimetype": "text/x-python",
   "name": "python",
   "nbconvert_exporter": "python",
   "pygments_lexer": "ipython3",
   "version": "3.9.15"
  }
 },
 "nbformat": 4,
 "nbformat_minor": 5
}
