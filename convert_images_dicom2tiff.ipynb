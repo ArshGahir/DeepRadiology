{
 "cells": [
  {
   "cell_type": "code",
   "execution_count": 1,
   "id": "8434e426",
   "metadata": {},
   "outputs": [],
   "source": [
    "import os\n",
    "import pydicom\n",
    "import imageio"
   ]
  },
  {
   "cell_type": "code",
   "execution_count": 2,
   "id": "d4cc0786",
   "metadata": {},
   "outputs": [],
   "source": [
    "def adjust_bits_stored(dicom_path):\n",
    "    dicom = pydicom.dcmread(dicom_path)\n",
    "    dicom.BitsStored = 16\n",
    "    return dicom"
   ]
  },
  {
   "cell_type": "code",
   "execution_count": 3,
   "id": "c05e14d9",
   "metadata": {},
   "outputs": [],
   "source": [
    "def convert_dicom_to_tiff(input_folder, output_folder):\n",
    "    # Create the output folder if it doesn't exist\n",
    "    if not os.path.exists(output_folder):\n",
    "        os.makedirs(output_folder)\n",
    "\n",
    "    # Iterate through DICOM files in the input folder\n",
    "    for filename in os.listdir(input_folder):\n",
    "        if filename.endswith('.dicom'):\n",
    "            dicom_path = os.path.join(input_folder, filename)\n",
    "            \n",
    "            # Adjust 'Bits Stored'\n",
    "            dicom = adjust_bits_stored(dicom_path)\n",
    "\n",
    "            # Use the pixel array for imageio\n",
    "            image = dicom.pixel_array.astype('uint16')\n",
    "\n",
    "            # Save as TIFF in the output folder\n",
    "            output_path = os.path.join(output_folder, os.path.splitext(filename)[0] + '.tiff')\n",
    "            imageio.imwrite(output_path, image)"
   ]
  },
  {
   "cell_type": "code",
   "execution_count": null,
   "id": "5423bf3e",
   "metadata": {},
   "outputs": [],
   "source": [
    "if __name__ == \"__main__\":\n",
    "    # convert test images\n",
    "    input_folder = \"C:/Users/Alex/Desktop/SENECA/Semester 9/BDC800_Capstone/Capstone Project/DeepRadiology/dataset/images/test_dicom\"\n",
    "    output_folder = \"C:/Users/Alex/Desktop/SENECA/Semester 9/BDC800_Capstone/Capstone Project/DeepRadiology/dataset/images/test\"\n",
    "    convert_dicom_to_tiff(input_folder, output_folder)\n",
    "    # convert train images\n",
    "    input_folder = \"C:/Users/Alex/Desktop/SENECA/Semester 9/BDC800_Capstone/Capstone Project/DeepRadiology/dataset/images/train_dicom\"\n",
    "    output_folder = \"C:/Users/Alex/Desktop/SENECA/Semester 9/BDC800_Capstone/Capstone Project/DeepRadiology/dataset/images/train\"\n",
    "    convert_dicom_to_tiff(input_folder, output_folder)\n",
    "    print('Complete')"
   ]
  }
 ],
 "metadata": {
  "kernelspec": {
   "display_name": "Python 3 (ipykernel)",
   "language": "python",
   "name": "python3"
  },
  "language_info": {
   "codemirror_mode": {
    "name": "ipython",
    "version": 3
   },
   "file_extension": ".py",
   "mimetype": "text/x-python",
   "name": "python",
   "nbconvert_exporter": "python",
   "pygments_lexer": "ipython3",
   "version": "3.9.15"
  }
 },
 "nbformat": 4,
 "nbformat_minor": 5
}
