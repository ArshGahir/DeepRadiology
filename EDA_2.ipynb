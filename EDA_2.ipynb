{
 "cells": [
  {
   "cell_type": "markdown",
   "metadata": {},
   "source": [
    "## Import Dependencies"
   ]
  },
  {
   "cell_type": "code",
   "execution_count": null,
   "metadata": {},
   "outputs": [],
   "source": [
    "#import libraries\n",
    "import os\n",
    "import pandas as pd\n",
    "import seaborn as sns\n",
    "import matplotlib.pyplot as plt\n",
    "import numpy as np\n",
    "\n"
   ]
  },
  {
   "cell_type": "markdown",
   "metadata": {},
   "source": [
    "## Load Data"
   ]
  },
  {
   "cell_type": "code",
   "execution_count": null,
   "metadata": {},
   "outputs": [],
   "source": [
    "file_path = os.path.join(os.path.dirname('./'), 'train.csv')\n",
    "data = pd.read_csv(file_path)"
   ]
  },
  {
   "cell_type": "code",
   "execution_count": null,
   "metadata": {},
   "outputs": [],
   "source": [
    "# Check the first few rows of the data\n",
    "data.head()"
   ]
  },
  {
   "cell_type": "markdown",
   "metadata": {},
   "source": [
    "## EDA"
   ]
  },
  {
   "cell_type": "code",
   "execution_count": null,
   "metadata": {},
   "outputs": [],
   "source": [
    "# Check the shape of the data (number of rows and columns)\n",
    "data.shape"
   ]
  },
  {
   "cell_type": "code",
   "execution_count": null,
   "metadata": {},
   "outputs": [],
   "source": [
    "# Check the data types of each column\n",
    "data.dtypes"
   ]
  },
  {
   "cell_type": "code",
   "execution_count": null,
   "metadata": {},
   "outputs": [],
   "source": [
    "# Check for missing values\n",
    "data.isnull().sum()"
   ]
  },
  {
   "cell_type": "code",
   "execution_count": null,
   "metadata": {},
   "outputs": [],
   "source": [
    "# Check basic statistics of numerical columns\n",
    "data.describe()"
   ]
  },
  {
   "cell_type": "code",
   "execution_count": null,
   "metadata": {},
   "outputs": [],
   "source": [
    "\n",
    "def plot_categorical_distributions(categorical_variable, data, bar_title, pie_title, bar_bool=True, pie_bool=True):\n",
    "    class_counts = data[categorical_variable].value_counts().rename_axis(categorical_variable).reset_index(name='counts')\n",
    "    print(class_counts)\n",
    "\n",
    "    ############### Bar Chart ###############\n",
    "    if bar_bool:\n",
    "        # Check the distribution of the anomaly class\n",
    "        fig, ax = plt.subplots(figsize=(12, 6))\n",
    "        sns.barplot(y=categorical_variable, x='counts', data=class_counts, ax=ax, hue=categorical_variable, order=class_counts[categorical_variable])\n",
    "        for container in ax.containers:\n",
    "            ax.bar_label(container)\n",
    "        ax.set_title(bar_title)\n",
    "        plt.tight_layout()\n",
    "        plt.show()\n",
    "\n",
    "    ############### Pie Chart ###############\n",
    "    if pie_bool:\n",
    "        # Calculate percentage for each class manually\n",
    "        class_counts['percentage'] = (class_counts['counts'] / class_counts['counts'].sum()) * 100\n",
    "\n",
    "        # Plot pie chart without labels on the slices but with autopct to show percentages\n",
    "        fig, ax = plt.subplots(figsize=(10, 6))\n",
    "        ax.pie(class_counts['counts'], autopct='%1.1f%%')\n",
    "\n",
    "        # Create custom labels for the legend by combining class name and percentage\n",
    "        labels = [f'{row[categorical_variable]}: {row.percentage:.1f}%' for index, row in class_counts.iterrows()]\n",
    "\n",
    "        # Set legend with custom labels\n",
    "        ax.legend(labels, loc=\"center left\", bbox_to_anchor=(1, 0.5))\n",
    "\n",
    "        # Equal aspect ratio ensures that pie is drawn as a circle.\n",
    "        ax.axis('equal')\n",
    "        ax.set_title(pie_title)\n",
    "        plt.tight_layout()\n",
    "        plt.show()\n",
    "\n",
    "\n",
    "plot_categorical_distributions('class_name', data, 'Distribution of Anomalies', 'Distribution of Anomalies by Percentage', True, True)\n",
    "plot_categorical_distributions('rad_id', data, 'Share of Labels by Radiologists', 'Share of Labels by Radiologists by Percentage', True, True)\n",
    "plot_categorical_distributions('image_id', data, _, _, False, False)"
   ]
  },
  {
   "cell_type": "code",
   "execution_count": null,
   "metadata": {},
   "outputs": [],
   "source": [
    "# Check the distribution of numerical columns\n",
    "data.drop(columns=['image_id', 'class_name', 'rad_id']).plot(kind = 'hist', subplots = True, layout = (3,3), sharex = False, sharey = False, figsize = (15,15))"
   ]
  },
  {
   "cell_type": "code",
   "execution_count": null,
   "metadata": {},
   "outputs": [],
   "source": [
    "# Check the correlation between numerical columns\n",
    "sns.heatmap(data.drop(columns=['image_id', 'class_name', 'rad_id']).corr(), annot=True)"
   ]
  },
  {
   "cell_type": "markdown",
   "metadata": {},
   "source": [
    "## Data Preprocessing"
   ]
  },
  {
   "cell_type": "markdown",
   "metadata": {},
   "source": [
    "### Image conversion to compatible format"
   ]
  },
  {
   "cell_type": "code",
   "execution_count": null,
   "metadata": {},
   "outputs": [],
   "source": [
    "# convert images to jpeg, supported by YOLOv8\n",
    "\n",
    "import dicom_convert as dconv\n",
    "\n",
    "dicom_folder = r\"C:\\Users\\cassm\\OneDrive\\Desktop\\vinbigdata-chest-xray-abnormalities-detection\\train\""
   ]
  },
  {
   "cell_type": "code",
   "execution_count": null,
   "metadata": {},
   "outputs": [],
   "source": [
    "# To convert to JPEG\n",
    "output_folder = r\"C:\\Users\\cassm\\OneDrive\\Desktop\\vinbigdata-chest-xray-abnormalities-detection\\images_jpg\"\n",
    "dconv.convert_dicom_to_jpeg(dicom_folder, output_folder)"
   ]
  },
  {
   "cell_type": "code",
   "execution_count": null,
   "metadata": {},
   "outputs": [],
   "source": [
    "# To convert to PNG\n",
    "output_folder = r\"C:\\Users\\cassm\\OneDrive\\Desktop\\vinbigdata-chest-xray-abnormalities-detection\\images_png\"\n",
    "dconv.convert_dicom_to_png(dicom_folder, output_folder)"
   ]
  },
  {
   "cell_type": "code",
   "execution_count": null,
   "metadata": {},
   "outputs": [],
   "source": [
    "# To convert to TIFF\n",
    "output_folder = r\"C:\\Users\\cassm\\OneDrive\\Desktop\\vinbigdata-chest-xray-abnormalities-detection\\images_tiff\"\n",
    "dconv.convert_dicom_to_tiff(dicom_folder, output_folder)"
   ]
  },
  {
   "cell_type": "markdown",
   "metadata": {},
   "source": [
    "### Data Sampling: Group classes by number of instances -> Stratify by Class_Name ->  Random Sampling"
   ]
  },
  {
   "cell_type": "code",
   "execution_count": null,
   "metadata": {},
   "outputs": [],
   "source": []
  }
 ],
 "metadata": {
  "kernelspec": {
   "display_name": "yolov8",
   "language": "python",
   "name": "python3"
  },
  "language_info": {
   "codemirror_mode": {
    "name": "ipython",
    "version": 3
   },
   "file_extension": ".py",
   "mimetype": "text/x-python",
   "name": "python",
   "nbconvert_exporter": "python",
   "pygments_lexer": "ipython3",
   "version": "3.11.7"
  }
 },
 "nbformat": 4,
 "nbformat_minor": 2
}
