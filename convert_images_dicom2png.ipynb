{
 "cells": [
  {
   "cell_type": "code",
   "execution_count": 1,
   "id": "8434e426",
   "metadata": {},
   "outputs": [],
   "source": [
    "import os\n",
    "import pydicom\n",
    "import imageio\n",
    "import numpy as np\n",
    "import tempfile"
   ]
  },
  {
   "cell_type": "code",
   "execution_count": 4,
   "id": "c05e14d9",
   "metadata": {},
   "outputs": [],
   "source": [
    "def convert_dicom_to_png(input_folder, output_folder, target_bits=16):\n",
    "    # Create the output folder if it doesn't exist\n",
    "    if not os.path.exists(output_folder):\n",
    "        os.makedirs(output_folder)\n",
    "\n",
    "    # Iterate through DICOM files in the input folder\n",
    "    for filename in os.listdir(input_folder):\n",
    "        if filename.endswith('.dicom'):\n",
    "            dicom_path = os.path.join(input_folder, filename)\n",
    "\n",
    "            # Read the DICOM file\n",
    "            dicom = pydicom.dcmread(dicom_path)\n",
    "\n",
    "            # Apply transformation\n",
    "            data = dicom.pixel_array\n",
    "            source_max = np.max(data)\n",
    "            target_max = 2 ** target_bits - 1\n",
    "            lut = np.round(np.arange(source_max + 1) * target_max / source_max).astype(np.uint16)\n",
    "            new_image_data = lut[data]\n",
    "\n",
    "            # Save as PNG in the output folder\n",
    "            output_path = os.path.join(output_folder, os.path.splitext(filename)[0] + '.png')\n",
    "            imageio.imwrite(output_path, new_image_data)"
   ]
  },
  {
   "cell_type": "code",
   "execution_count": null,
   "id": "5423bf3e",
   "metadata": {},
   "outputs": [
    {
     "name": "stderr",
     "output_type": "stream",
     "text": [
      "C:\\Users\\Alex\\anaconda3\\envs\\tf-gpu\\lib\\site-packages\\pydicom\\pixel_data_handlers\\pillow_handler.py:238: UserWarning: The (0028,0101) 'Bits Stored' value (12-bit) doesn't match the JPEG 2000 data (16-bit). It's recommended that you change the 'Bits Stored' value\n",
      "  warnings.warn(\n",
      "C:\\Users\\Alex\\anaconda3\\envs\\tf-gpu\\lib\\site-packages\\pydicom\\pixel_data_handlers\\pillow_handler.py:238: UserWarning: The (0028,0101) 'Bits Stored' value (14-bit) doesn't match the JPEG 2000 data (16-bit). It's recommended that you change the 'Bits Stored' value\n",
      "  warnings.warn(\n"
     ]
    }
   ],
   "source": [
    "if __name__ == \"__main__\":\n",
    "    # Convert test images\n",
    "    # test_input_folder = \"C:/Users/Alex/Desktop/SENECA/Semester 9/BDC800_Capstone/Capstone Project/DeepRadiology/dataset/images/test_dicom\"\n",
    "    # test_output_folder = \"C:/Users/Alex/Desktop/SENECA/Semester 9/BDC800_Capstone/Capstone Project/DeepRadiology/dataset/images/test\"\n",
    "    # convert_dicom_to_png(test_input_folder, test_output_folder)\n",
    "\n",
    "    # Convert train images\n",
    "    train_input_folder = \"C:/Users/Alex/Desktop/SENECA/Semester 9/BDC800_Capstone/Capstone Project/DeepRadiology/dataset/images/train_dicom_og\"\n",
    "    train_output_folder = \"C:/Users/Alex/Desktop/SENECA/Semester 9/BDC800_Capstone/Capstone Project/DeepRadiology/dataset/images/train_og\"\n",
    "    convert_dicom_to_png(train_input_folder, train_output_folder)\n",
    "\n",
    "    print('Complete')"
   ]
  }
 ],
 "metadata": {
  "kernelspec": {
   "display_name": "Python 3 (ipykernel)",
   "language": "python",
   "name": "python3"
  },
  "language_info": {
   "codemirror_mode": {
    "name": "ipython",
    "version": 3
   },
   "file_extension": ".py",
   "mimetype": "text/x-python",
   "name": "python",
   "nbconvert_exporter": "python",
   "pygments_lexer": "ipython3",
   "version": "3.9.18"
  }
 },
 "nbformat": 4,
 "nbformat_minor": 5
}
